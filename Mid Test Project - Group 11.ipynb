{
 "cells": [
  {
   "cell_type": "markdown",
   "id": "6639e04f",
   "metadata": {},
   "source": [
    "# Mid Test Project - Group 11\n",
    "### Dataset : Credit Card Fraud"
   ]
  },
  {
   "cell_type": "markdown",
   "id": "41ad44d6",
   "metadata": {},
   "source": [
    "Our Team:\n",
    "1. Luh Putu Deswinta Dharmariani (2208541009)\n",
    "2. Ni Kadek Yuni Antari (2208541018)\n",
    "3. Ni Kadek Intan Dwi Pratiwi (2208541023)\n",
    "\n",
    "In this notebook, we will discuss about the analysis of data on the credit card fraud dataset. The goal of this project is to investigate what variables can indicate fraud in credit card transactions. For this we can:\n",
    "\n",
    "1. Get intuition about the data;\n",
    "2. Document an exploratory data analysis;\n",
    "3. Point out conclusions in every step of analysis;\n",
    "4. Use graphical modules (matplotlib and seaborn) to answer questions;"
   ]
  },
  {
   "cell_type": "markdown",
   "id": "8f29ad63",
   "metadata": {},
   "source": [
    "## 1. Importing Libraries"
   ]
  },
  {
   "cell_type": "code",
   "execution_count": 1,
   "id": "ac2e8e59",
   "metadata": {},
   "outputs": [],
   "source": [
    "# Standard libraries\n",
    "import numpy as np\n",
    "import pandas as pd\n",
    "from warnings import filterwarnings\n",
    "filterwarnings('ignore')\n",
    "pd.set_option('display.max_columns', 500)\n",
    "pd.set_option('display.max_rows',500)\n",
    "#NOTES : pd.set_option is used to define how many rows/columns maximum will be shown.\n",
    "\n",
    "# Visualization libraries\n",
    "import matplotlib.pyplot as plt\n",
    "%matplotlib inline\n",
    "import seaborn as sns"
   ]
  },
  {
   "cell_type": "markdown",
   "id": "32804524",
   "metadata": {},
   "source": [
    "## 2.  Reading and Exploring the Data"
   ]
  },
  {
   "cell_type": "code",
   "execution_count": 2,
   "id": "a7763a40",
   "metadata": {
    "scrolled": true
   },
   "outputs": [
    {
     "data": {
      "text/html": [
       "<div>\n",
       "<style scoped>\n",
       "    .dataframe tbody tr th:only-of-type {\n",
       "        vertical-align: middle;\n",
       "    }\n",
       "\n",
       "    .dataframe tbody tr th {\n",
       "        vertical-align: top;\n",
       "    }\n",
       "\n",
       "    .dataframe thead th {\n",
       "        text-align: right;\n",
       "    }\n",
       "</style>\n",
       "<table border=\"1\" class=\"dataframe\">\n",
       "  <thead>\n",
       "    <tr style=\"text-align: right;\">\n",
       "      <th></th>\n",
       "      <th>distance_from_home</th>\n",
       "      <th>distance_from_last_transaction</th>\n",
       "      <th>ratio_to_median_purchase_price</th>\n",
       "      <th>repeat_retailer</th>\n",
       "      <th>used_chip</th>\n",
       "      <th>used_pin_number</th>\n",
       "      <th>online_order</th>\n",
       "      <th>fraud</th>\n",
       "    </tr>\n",
       "  </thead>\n",
       "  <tbody>\n",
       "    <tr>\n",
       "      <th>0</th>\n",
       "      <td>57.877857</td>\n",
       "      <td>0.311140</td>\n",
       "      <td>1.945940</td>\n",
       "      <td>1.0</td>\n",
       "      <td>1.0</td>\n",
       "      <td>0.0</td>\n",
       "      <td>0.0</td>\n",
       "      <td>0.0</td>\n",
       "    </tr>\n",
       "    <tr>\n",
       "      <th>1</th>\n",
       "      <td>10.829943</td>\n",
       "      <td>0.175592</td>\n",
       "      <td>1.294219</td>\n",
       "      <td>1.0</td>\n",
       "      <td>0.0</td>\n",
       "      <td>0.0</td>\n",
       "      <td>0.0</td>\n",
       "      <td>0.0</td>\n",
       "    </tr>\n",
       "    <tr>\n",
       "      <th>2</th>\n",
       "      <td>5.091079</td>\n",
       "      <td>0.805153</td>\n",
       "      <td>0.427715</td>\n",
       "      <td>1.0</td>\n",
       "      <td>0.0</td>\n",
       "      <td>0.0</td>\n",
       "      <td>1.0</td>\n",
       "      <td>0.0</td>\n",
       "    </tr>\n",
       "    <tr>\n",
       "      <th>3</th>\n",
       "      <td>2.247564</td>\n",
       "      <td>5.600044</td>\n",
       "      <td>0.362663</td>\n",
       "      <td>1.0</td>\n",
       "      <td>1.0</td>\n",
       "      <td>0.0</td>\n",
       "      <td>1.0</td>\n",
       "      <td>0.0</td>\n",
       "    </tr>\n",
       "    <tr>\n",
       "      <th>4</th>\n",
       "      <td>44.190936</td>\n",
       "      <td>0.566486</td>\n",
       "      <td>2.222767</td>\n",
       "      <td>1.0</td>\n",
       "      <td>1.0</td>\n",
       "      <td>0.0</td>\n",
       "      <td>1.0</td>\n",
       "      <td>0.0</td>\n",
       "    </tr>\n",
       "  </tbody>\n",
       "</table>\n",
       "</div>"
      ],
      "text/plain": [
       "   distance_from_home  distance_from_last_transaction  \\\n",
       "0           57.877857                        0.311140   \n",
       "1           10.829943                        0.175592   \n",
       "2            5.091079                        0.805153   \n",
       "3            2.247564                        5.600044   \n",
       "4           44.190936                        0.566486   \n",
       "\n",
       "   ratio_to_median_purchase_price  repeat_retailer  used_chip  \\\n",
       "0                        1.945940              1.0        1.0   \n",
       "1                        1.294219              1.0        0.0   \n",
       "2                        0.427715              1.0        0.0   \n",
       "3                        0.362663              1.0        1.0   \n",
       "4                        2.222767              1.0        1.0   \n",
       "\n",
       "   used_pin_number  online_order  fraud  \n",
       "0              0.0           0.0    0.0  \n",
       "1              0.0           0.0    0.0  \n",
       "2              0.0           1.0    0.0  \n",
       "3              0.0           1.0    0.0  \n",
       "4              0.0           1.0    0.0  "
      ]
     },
     "execution_count": 2,
     "metadata": {},
     "output_type": "execute_result"
    }
   ],
   "source": [
    "# Read the data\n",
    "data_cc = pd.read_csv('fraud_cc.csv')\n",
    "# We start by looking to the data features in first 5 rows.\n",
    "data_cc.head()"
   ]
  },
  {
   "cell_type": "markdown",
   "id": "78838ec7",
   "metadata": {},
   "source": [
    "(INTERPRETATION) : By looking at the dataset, it's possible to see the meaning of each columns of the data. In this dataset, we have:\n",
    "1. distance_from_home = distance from home to where the transaction occurred.\n",
    "2. distance_from_last_transaction = distance to the last transaction that occurred.\n",
    "3. ratio_to_median_purchase_price = the ratio of the transaction purchase price to the average purchase price.\n",
    "4. repeat_retailer = Whether the transaction occurred from the same retailer?\n",
    "5. used_chip = Whether the transaction used a chip in credit card?\n",
    "6. used_pin_number = Whether the transaction occurred using a PIN number?\n",
    "7. online_order = Whether the transaction was an online transaction? like shopee or tokopedia\n",
    "8. fraud = Is the transaction a scam?"
   ]
  },
  {
   "cell_type": "markdown",
   "id": "bc36c78e",
   "metadata": {},
   "source": [
    "### 2.1 Overview from the Data"
   ]
  },
  {
   "cell_type": "code",
   "execution_count": 3,
   "id": "5167cbbf",
   "metadata": {
    "scrolled": true
   },
   "outputs": [
    {
     "name": "stdout",
     "output_type": "stream",
     "text": [
      "<class 'pandas.core.frame.DataFrame'>\n",
      "RangeIndex: 1000000 entries, 0 to 999999\n",
      "Data columns (total 8 columns):\n",
      " #   Column                          Non-Null Count    Dtype  \n",
      "---  ------                          --------------    -----  \n",
      " 0   distance_from_home              1000000 non-null  float64\n",
      " 1   distance_from_last_transaction  1000000 non-null  float64\n",
      " 2   ratio_to_median_purchase_price  1000000 non-null  float64\n",
      " 3   repeat_retailer                 1000000 non-null  float64\n",
      " 4   used_chip                       1000000 non-null  float64\n",
      " 5   used_pin_number                 1000000 non-null  float64\n",
      " 6   online_order                    1000000 non-null  float64\n",
      " 7   fraud                           1000000 non-null  float64\n",
      "dtypes: float64(8)\n",
      "memory usage: 61.0 MB\n"
     ]
    }
   ],
   "source": [
    "# Once read the data, let's now use a simple implementation to extract useful information about the dataset.\n",
    "data_cc.info()"
   ]
  },
  {
   "cell_type": "markdown",
   "id": "e801c977",
   "metadata": {},
   "source": [
    "(INTERPRETATION)  : From the output above, we can see that the dataset has 1 million rows and 8 columns. There are no empty cells in the dataset, which only contains float-type values."
   ]
  },
  {
   "cell_type": "markdown",
   "id": "4736d3ea",
   "metadata": {},
   "source": [
    "### 2.2 More details about the Data"
   ]
  },
  {
   "cell_type": "code",
   "execution_count": 4,
   "id": "bd98b3da",
   "metadata": {
    "scrolled": false
   },
   "outputs": [
    {
     "data": {
      "text/html": [
       "<div>\n",
       "<style scoped>\n",
       "    .dataframe tbody tr th:only-of-type {\n",
       "        vertical-align: middle;\n",
       "    }\n",
       "\n",
       "    .dataframe tbody tr th {\n",
       "        vertical-align: top;\n",
       "    }\n",
       "\n",
       "    .dataframe thead th {\n",
       "        text-align: right;\n",
       "    }\n",
       "</style>\n",
       "<table border=\"1\" class=\"dataframe\">\n",
       "  <thead>\n",
       "    <tr style=\"text-align: right;\">\n",
       "      <th></th>\n",
       "      <th>distance_from_home</th>\n",
       "      <th>distance_from_last_transaction</th>\n",
       "      <th>ratio_to_median_purchase_price</th>\n",
       "      <th>repeat_retailer</th>\n",
       "      <th>used_chip</th>\n",
       "      <th>used_pin_number</th>\n",
       "      <th>online_order</th>\n",
       "      <th>fraud</th>\n",
       "    </tr>\n",
       "  </thead>\n",
       "  <tbody>\n",
       "    <tr>\n",
       "      <th>count</th>\n",
       "      <td>1000000.000000</td>\n",
       "      <td>1000000.000000</td>\n",
       "      <td>1000000.000000</td>\n",
       "      <td>1000000.000000</td>\n",
       "      <td>1000000.000000</td>\n",
       "      <td>1000000.000000</td>\n",
       "      <td>1000000.000000</td>\n",
       "      <td>1000000.000000</td>\n",
       "    </tr>\n",
       "    <tr>\n",
       "      <th>mean</th>\n",
       "      <td>26.628792</td>\n",
       "      <td>5.036519</td>\n",
       "      <td>1.824182</td>\n",
       "      <td>0.881536</td>\n",
       "      <td>0.350399</td>\n",
       "      <td>0.100608</td>\n",
       "      <td>0.650552</td>\n",
       "      <td>0.087403</td>\n",
       "    </tr>\n",
       "    <tr>\n",
       "      <th>std</th>\n",
       "      <td>65.390784</td>\n",
       "      <td>25.843093</td>\n",
       "      <td>2.799589</td>\n",
       "      <td>0.323157</td>\n",
       "      <td>0.477095</td>\n",
       "      <td>0.300809</td>\n",
       "      <td>0.476796</td>\n",
       "      <td>0.282425</td>\n",
       "    </tr>\n",
       "    <tr>\n",
       "      <th>min</th>\n",
       "      <td>0.004874</td>\n",
       "      <td>0.000118</td>\n",
       "      <td>0.004399</td>\n",
       "      <td>0.000000</td>\n",
       "      <td>0.000000</td>\n",
       "      <td>0.000000</td>\n",
       "      <td>0.000000</td>\n",
       "      <td>0.000000</td>\n",
       "    </tr>\n",
       "    <tr>\n",
       "      <th>25%</th>\n",
       "      <td>3.878008</td>\n",
       "      <td>0.296671</td>\n",
       "      <td>0.475673</td>\n",
       "      <td>1.000000</td>\n",
       "      <td>0.000000</td>\n",
       "      <td>0.000000</td>\n",
       "      <td>0.000000</td>\n",
       "      <td>0.000000</td>\n",
       "    </tr>\n",
       "    <tr>\n",
       "      <th>50%</th>\n",
       "      <td>9.967760</td>\n",
       "      <td>0.998650</td>\n",
       "      <td>0.997717</td>\n",
       "      <td>1.000000</td>\n",
       "      <td>0.000000</td>\n",
       "      <td>0.000000</td>\n",
       "      <td>1.000000</td>\n",
       "      <td>0.000000</td>\n",
       "    </tr>\n",
       "    <tr>\n",
       "      <th>75%</th>\n",
       "      <td>25.743985</td>\n",
       "      <td>3.355748</td>\n",
       "      <td>2.096370</td>\n",
       "      <td>1.000000</td>\n",
       "      <td>1.000000</td>\n",
       "      <td>0.000000</td>\n",
       "      <td>1.000000</td>\n",
       "      <td>0.000000</td>\n",
       "    </tr>\n",
       "    <tr>\n",
       "      <th>max</th>\n",
       "      <td>10632.723672</td>\n",
       "      <td>11851.104565</td>\n",
       "      <td>267.802942</td>\n",
       "      <td>1.000000</td>\n",
       "      <td>1.000000</td>\n",
       "      <td>1.000000</td>\n",
       "      <td>1.000000</td>\n",
       "      <td>1.000000</td>\n",
       "    </tr>\n",
       "  </tbody>\n",
       "</table>\n",
       "</div>"
      ],
      "text/plain": [
       "       distance_from_home  distance_from_last_transaction  \\\n",
       "count      1000000.000000                  1000000.000000   \n",
       "mean            26.628792                        5.036519   \n",
       "std             65.390784                       25.843093   \n",
       "min              0.004874                        0.000118   \n",
       "25%              3.878008                        0.296671   \n",
       "50%              9.967760                        0.998650   \n",
       "75%             25.743985                        3.355748   \n",
       "max          10632.723672                    11851.104565   \n",
       "\n",
       "       ratio_to_median_purchase_price  repeat_retailer       used_chip  \\\n",
       "count                  1000000.000000   1000000.000000  1000000.000000   \n",
       "mean                         1.824182         0.881536        0.350399   \n",
       "std                          2.799589         0.323157        0.477095   \n",
       "min                          0.004399         0.000000        0.000000   \n",
       "25%                          0.475673         1.000000        0.000000   \n",
       "50%                          0.997717         1.000000        0.000000   \n",
       "75%                          2.096370         1.000000        1.000000   \n",
       "max                        267.802942         1.000000        1.000000   \n",
       "\n",
       "       used_pin_number    online_order           fraud  \n",
       "count   1000000.000000  1000000.000000  1000000.000000  \n",
       "mean          0.100608        0.650552        0.087403  \n",
       "std           0.300809        0.476796        0.282425  \n",
       "min           0.000000        0.000000        0.000000  \n",
       "25%           0.000000        0.000000        0.000000  \n",
       "50%           0.000000        1.000000        0.000000  \n",
       "75%           0.000000        1.000000        0.000000  \n",
       "max           1.000000        1.000000        1.000000  "
      ]
     },
     "execution_count": 4,
     "metadata": {},
     "output_type": "execute_result"
    }
   ],
   "source": [
    "# Shows statistical descriptive data to provide further information\n",
    "data_cc.describe()"
   ]
  },
  {
   "cell_type": "markdown",
   "id": "db2eb97a",
   "metadata": {},
   "source": [
    "(INTERPRETATION)  : As can be observed, there is a 26 km average distance (in kilometers) between house and transaction locations. The data also shows that the closest distance from house   to the transaction locaton is 0.005 kilometers. The greatest distance is 10,000 kilometers, which makes it already questionable because it is 10 times farther than the distance between Bali and Jakarta. "
   ]
  },
  {
   "cell_type": "code",
   "execution_count": null,
   "id": "c6eb9315",
   "metadata": {},
   "outputs": [],
   "source": [
    "# View existing columns in a dataset\n",
    "data_kartu_kredit.columns"
   ]
  },
  {
   "cell_type": "markdown",
   "id": "f006a734",
   "metadata": {},
   "source": [
    "### 2.3  Graphical Exploration\n",
    "In this session, we present useful charts that could be used to get intuition about the data. "
   ]
  },
  {
   "cell_type": "code",
   "execution_count": 5,
   "id": "416b20c4",
   "metadata": {
    "scrolled": false
   },
   "outputs": [
    {
     "data": {
      "image/png": "[encoded data removed]",
      "text/plain": [
       "<Figure size 300x300 with 1 Axes>"
      ]
     },
     "metadata": {},
     "output_type": "display_data"
    },
    {
     "name": "stdout",
     "output_type": "stream",
     "text": [
      "0.0    912597\n",
      "1.0     87403\n",
      "Name: fraud, dtype: int64\n"
     ]
    }
   ],
   "source": [
    "data_cc[\"fraud\"].value_counts().plot(kind = 'pie',explode=[0.0, 0.1],figsize=(3,3),autopct='%1.1f%%',shadow=True)\n",
    "plt.legend([\"normal\",\"fraud\"])\n",
    "plt.show()\n",
    "# NOTES : %1.1f%% is used to shows the percentage in each label, we are using 'f' cause 'fraud' variable has float-type values. \n",
    "\n",
    "print(data_cc['fraud'].value_counts())"
   ]
  },
  {
   "cell_type": "markdown",
   "id": "8978b601",
   "metadata": {},
   "source": [
    "(INTERPRETATION)  : As we can see, in the 'fraud' column, 912597 records have a value of 0.0 or around 91.3%, are not fraud cases. Then, 87403 records have a value of 1.0 or around 8.7%, are fraud cases. It can be concluded that most transactions are not fraudulent. If we use this dataframe as the basis for our prediction and analysis model, we may get a lot of errors and our algorithm may become overfit as it will \"assume\" that most transactions are not fraudulent. For this reason, we need to normalize our dataframe."
   ]
  },
  {
   "cell_type": "code",
   "execution_count": 6,
   "id": "0ba1a399",
   "metadata": {},
   "outputs": [
    {
     "name": "stdout",
     "output_type": "stream",
     "text": [
      "Percentage of fraud in repeat retailer: 88.0118531400524\n",
      "Percentage of fraud not using chip: 74.36014782101302\n",
      "Percentage of fraud not using PIN: 99.6876537418624\n",
      "Percentage of fraud in online orders: 94.63176321178906\n"
     ]
    }
   ],
   "source": [
    "# The next step is to look at the percentage of each variable's values which are contains boolean-type values. \n",
    "print('Percentage of fraud in repeat retailer:',\n",
    "      100*data_cc.loc[(data_cc.fraud==1) & (data_cc.repeat_retailer==1)].shape[0]/data_cc.loc[data_cc.fraud==1].shape[0])\n",
    "print('Percentage of fraud not using chip:',\n",
    "      100*data_cc.loc[(data_cc.fraud==1) & (data_cc.used_chip==0)].shape[0]/data_cc.loc[data_cc.fraud==1].shape[0])\n",
    "print('Percentage of fraud not using PIN:',\n",
    "      100*data_cc.loc[(data_cc.fraud==1) & (data_cc.used_pin_number==0)].shape[0]/data_cc.loc[data_cc.fraud==1].shape[0])\n",
    "print('Percentage of fraud in online orders:',\n",
    "      100*data_cc.loc[(data_cc.fraud==1) & (data_cc.online_order==1)].shape[0]/data_cc.loc[data_cc.fraud==1].shape[0])"
   ]
  },
  {
   "cell_type": "markdown",
   "id": "c230baec",
   "metadata": {},
   "source": [
    "(INTERPRETATION)  : Several things can be drawn from the description above.\n",
    "1. Fraud cases exist in transactions from the same store, at 88%.\n",
    "2. Fraud exists in 74% of transactions that aren't using chips.\n",
    "3. Most fraud cases, about 99%, involve transactions without a PIN. It means, transactions that occur with a PIN number will not experience fraud.\n",
    "4. Most of the fraud, which is about 94%, is done through online orders\n",
    "\n",
    "Therefore, online ordering transactions and transactions without a PIN have a significant impact on fraud cases. For more details, please see the graph below."
   ]
  },
  {
   "cell_type": "code",
   "execution_count": 7,
   "id": "50afb404",
   "metadata": {
    "scrolled": false
   },
   "outputs": [
    {
     "data": {
      "image/png": "[encoded data removed]",
      "text/plain": [
       "<Figure size 2000x1200 with 4 Axes>"
      ]
     },
     "metadata": {},
     "output_type": "display_data"
    }
   ],
   "source": [
    "fig, (ax1, ax2, ax3, ax4) = plt.subplots(ncols=4, figsize=(20,12))\n",
    "s = sns.countplot(ax = ax1, x=\"repeat_retailer\", data=data_cc, hue='fraud')\n",
    "s = sns.countplot(ax = ax2, x=\"used_chip\", data=data_cc, hue='fraud')\n",
    "s = sns.countplot(ax = ax3, x=\"used_pin_number\", data=data_cc, hue='fraud')\n",
    "s = sns.countplot(ax = ax4, x=\"online_order\", data=data_cc, hue='fraud')\n",
    "plt.show();"
   ]
  },
  {
   "cell_type": "markdown",
   "id": "970916df",
   "metadata": {},
   "source": [
    "## 3. Normalization and Data Pre-processing\n",
    "Normalization is used to remove bias in the data, so that data with a large range will give an equivalent effect to data with a narrower range."
   ]
  },
  {
   "cell_type": "code",
   "execution_count": 8,
   "id": "d88e7987",
   "metadata": {
    "scrolled": true
   },
   "outputs": [
    {
     "data": {
      "text/html": [
       "<div>\n",
       "<style scoped>\n",
       "    .dataframe tbody tr th:only-of-type {\n",
       "        vertical-align: middle;\n",
       "    }\n",
       "\n",
       "    .dataframe tbody tr th {\n",
       "        vertical-align: top;\n",
       "    }\n",
       "\n",
       "    .dataframe thead th {\n",
       "        text-align: right;\n",
       "    }\n",
       "</style>\n",
       "<table border=\"1\" class=\"dataframe\">\n",
       "  <thead>\n",
       "    <tr style=\"text-align: right;\">\n",
       "      <th></th>\n",
       "      <th>distance_from_home</th>\n",
       "      <th>distance_from_last_transaction</th>\n",
       "      <th>ratio_to_median_purchase_price</th>\n",
       "      <th>repeat_retailer</th>\n",
       "      <th>used_chip</th>\n",
       "      <th>used_pin_number</th>\n",
       "      <th>online_order</th>\n",
       "      <th>fraud</th>\n",
       "    </tr>\n",
       "  </thead>\n",
       "  <tbody>\n",
       "    <tr>\n",
       "      <th>0</th>\n",
       "      <td>0.005443</td>\n",
       "      <td>0.000026</td>\n",
       "      <td>0.007250</td>\n",
       "      <td>1.0</td>\n",
       "      <td>1.0</td>\n",
       "      <td>0.0</td>\n",
       "      <td>0.0</td>\n",
       "      <td>0.0</td>\n",
       "    </tr>\n",
       "    <tr>\n",
       "      <th>1</th>\n",
       "      <td>0.001018</td>\n",
       "      <td>0.000015</td>\n",
       "      <td>0.004816</td>\n",
       "      <td>1.0</td>\n",
       "      <td>0.0</td>\n",
       "      <td>0.0</td>\n",
       "      <td>0.0</td>\n",
       "      <td>0.0</td>\n",
       "    </tr>\n",
       "    <tr>\n",
       "      <th>2</th>\n",
       "      <td>0.000478</td>\n",
       "      <td>0.000068</td>\n",
       "      <td>0.001581</td>\n",
       "      <td>1.0</td>\n",
       "      <td>0.0</td>\n",
       "      <td>0.0</td>\n",
       "      <td>1.0</td>\n",
       "      <td>0.0</td>\n",
       "    </tr>\n",
       "    <tr>\n",
       "      <th>3</th>\n",
       "      <td>0.000211</td>\n",
       "      <td>0.000473</td>\n",
       "      <td>0.001338</td>\n",
       "      <td>1.0</td>\n",
       "      <td>1.0</td>\n",
       "      <td>0.0</td>\n",
       "      <td>1.0</td>\n",
       "      <td>0.0</td>\n",
       "    </tr>\n",
       "    <tr>\n",
       "      <th>4</th>\n",
       "      <td>0.004156</td>\n",
       "      <td>0.000048</td>\n",
       "      <td>0.008284</td>\n",
       "      <td>1.0</td>\n",
       "      <td>1.0</td>\n",
       "      <td>0.0</td>\n",
       "      <td>1.0</td>\n",
       "      <td>0.0</td>\n",
       "    </tr>\n",
       "  </tbody>\n",
       "</table>\n",
       "</div>"
      ],
      "text/plain": [
       "   distance_from_home  distance_from_last_transaction  \\\n",
       "0            0.005443                        0.000026   \n",
       "1            0.001018                        0.000015   \n",
       "2            0.000478                        0.000068   \n",
       "3            0.000211                        0.000473   \n",
       "4            0.004156                        0.000048   \n",
       "\n",
       "   ratio_to_median_purchase_price  repeat_retailer  used_chip  \\\n",
       "0                        0.007250              1.0        1.0   \n",
       "1                        0.004816              1.0        0.0   \n",
       "2                        0.001581              1.0        0.0   \n",
       "3                        0.001338              1.0        1.0   \n",
       "4                        0.008284              1.0        1.0   \n",
       "\n",
       "   used_pin_number  online_order  fraud  \n",
       "0              0.0           0.0    0.0  \n",
       "1              0.0           0.0    0.0  \n",
       "2              0.0           1.0    0.0  \n",
       "3              0.0           1.0    0.0  \n",
       "4              0.0           1.0    0.0  "
      ]
     },
     "execution_count": 8,
     "metadata": {},
     "output_type": "execute_result"
    }
   ],
   "source": [
    "from sklearn import preprocessing\n",
    "\n",
    "scaler = preprocessing.MinMaxScaler()\n",
    "d = scaler.fit_transform(data_cc)\n",
    "data_normalisasi = pd.DataFrame(d, columns=data_cc.columns)\n",
    "data_normalisasi.head()"
   ]
  },
  {
   "cell_type": "code",
   "execution_count": 9,
   "id": "a6a0e06f",
   "metadata": {
    "scrolled": false
   },
   "outputs": [
    {
     "data": {
      "text/html": [
       "<div>\n",
       "<style scoped>\n",
       "    .dataframe tbody tr th:only-of-type {\n",
       "        vertical-align: middle;\n",
       "    }\n",
       "\n",
       "    .dataframe tbody tr th {\n",
       "        vertical-align: top;\n",
       "    }\n",
       "\n",
       "    .dataframe thead th {\n",
       "        text-align: right;\n",
       "    }\n",
       "</style>\n",
       "<table border=\"1\" class=\"dataframe\">\n",
       "  <thead>\n",
       "    <tr style=\"text-align: right;\">\n",
       "      <th></th>\n",
       "      <th>distance_from_home</th>\n",
       "      <th>distance_from_last_transaction</th>\n",
       "      <th>ratio_to_median_purchase_price</th>\n",
       "      <th>repeat_retailer</th>\n",
       "      <th>used_chip</th>\n",
       "      <th>used_pin_number</th>\n",
       "      <th>online_order</th>\n",
       "      <th>fraud</th>\n",
       "    </tr>\n",
       "  </thead>\n",
       "  <tbody>\n",
       "    <tr>\n",
       "      <th>count</th>\n",
       "      <td>1000000.000000</td>\n",
       "      <td>1000000.000000</td>\n",
       "      <td>1000000.000000</td>\n",
       "      <td>1000000.000000</td>\n",
       "      <td>1000000.000000</td>\n",
       "      <td>1000000.000000</td>\n",
       "      <td>1000000.000000</td>\n",
       "      <td>1000000.000000</td>\n",
       "    </tr>\n",
       "    <tr>\n",
       "      <th>mean</th>\n",
       "      <td>0.002504</td>\n",
       "      <td>0.000425</td>\n",
       "      <td>0.006795</td>\n",
       "      <td>0.881536</td>\n",
       "      <td>0.350399</td>\n",
       "      <td>0.100608</td>\n",
       "      <td>0.650552</td>\n",
       "      <td>0.087403</td>\n",
       "    </tr>\n",
       "    <tr>\n",
       "      <th>std</th>\n",
       "      <td>0.006150</td>\n",
       "      <td>0.002181</td>\n",
       "      <td>0.010454</td>\n",
       "      <td>0.323157</td>\n",
       "      <td>0.477095</td>\n",
       "      <td>0.300809</td>\n",
       "      <td>0.476796</td>\n",
       "      <td>0.282425</td>\n",
       "    </tr>\n",
       "    <tr>\n",
       "      <th>min</th>\n",
       "      <td>0.000000</td>\n",
       "      <td>0.000000</td>\n",
       "      <td>0.000000</td>\n",
       "      <td>0.000000</td>\n",
       "      <td>0.000000</td>\n",
       "      <td>0.000000</td>\n",
       "      <td>0.000000</td>\n",
       "      <td>0.000000</td>\n",
       "    </tr>\n",
       "    <tr>\n",
       "      <th>25%</th>\n",
       "      <td>0.000364</td>\n",
       "      <td>0.000025</td>\n",
       "      <td>0.001760</td>\n",
       "      <td>1.000000</td>\n",
       "      <td>0.000000</td>\n",
       "      <td>0.000000</td>\n",
       "      <td>0.000000</td>\n",
       "      <td>0.000000</td>\n",
       "    </tr>\n",
       "    <tr>\n",
       "      <th>50%</th>\n",
       "      <td>0.000937</td>\n",
       "      <td>0.000084</td>\n",
       "      <td>0.003709</td>\n",
       "      <td>1.000000</td>\n",
       "      <td>0.000000</td>\n",
       "      <td>0.000000</td>\n",
       "      <td>1.000000</td>\n",
       "      <td>0.000000</td>\n",
       "    </tr>\n",
       "    <tr>\n",
       "      <th>75%</th>\n",
       "      <td>0.002421</td>\n",
       "      <td>0.000283</td>\n",
       "      <td>0.007812</td>\n",
       "      <td>1.000000</td>\n",
       "      <td>1.000000</td>\n",
       "      <td>0.000000</td>\n",
       "      <td>1.000000</td>\n",
       "      <td>0.000000</td>\n",
       "    </tr>\n",
       "    <tr>\n",
       "      <th>max</th>\n",
       "      <td>1.000000</td>\n",
       "      <td>1.000000</td>\n",
       "      <td>1.000000</td>\n",
       "      <td>1.000000</td>\n",
       "      <td>1.000000</td>\n",
       "      <td>1.000000</td>\n",
       "      <td>1.000000</td>\n",
       "      <td>1.000000</td>\n",
       "    </tr>\n",
       "  </tbody>\n",
       "</table>\n",
       "</div>"
      ],
      "text/plain": [
       "       distance_from_home  distance_from_last_transaction  \\\n",
       "count      1000000.000000                  1000000.000000   \n",
       "mean             0.002504                        0.000425   \n",
       "std              0.006150                        0.002181   \n",
       "min              0.000000                        0.000000   \n",
       "25%              0.000364                        0.000025   \n",
       "50%              0.000937                        0.000084   \n",
       "75%              0.002421                        0.000283   \n",
       "max              1.000000                        1.000000   \n",
       "\n",
       "       ratio_to_median_purchase_price  repeat_retailer       used_chip  \\\n",
       "count                  1000000.000000   1000000.000000  1000000.000000   \n",
       "mean                         0.006795         0.881536        0.350399   \n",
       "std                          0.010454         0.323157        0.477095   \n",
       "min                          0.000000         0.000000        0.000000   \n",
       "25%                          0.001760         1.000000        0.000000   \n",
       "50%                          0.003709         1.000000        0.000000   \n",
       "75%                          0.007812         1.000000        1.000000   \n",
       "max                          1.000000         1.000000        1.000000   \n",
       "\n",
       "       used_pin_number    online_order           fraud  \n",
       "count   1000000.000000  1000000.000000  1000000.000000  \n",
       "mean          0.100608        0.650552        0.087403  \n",
       "std           0.300809        0.476796        0.282425  \n",
       "min           0.000000        0.000000        0.000000  \n",
       "25%           0.000000        0.000000        0.000000  \n",
       "50%           0.000000        1.000000        0.000000  \n",
       "75%           0.000000        1.000000        0.000000  \n",
       "max           1.000000        1.000000        1.000000  "
      ]
     },
     "execution_count": 9,
     "metadata": {},
     "output_type": "execute_result"
    }
   ],
   "source": [
    "data_normalisasi.describe()"
   ]
  },
  {
   "cell_type": "markdown",
   "id": "d5b7a04c",
   "metadata": {},
   "source": [
    "## 4. Splitting The Data"
   ]
  },
  {
   "cell_type": "code",
   "execution_count": 10,
   "id": "b3776543",
   "metadata": {},
   "outputs": [],
   "source": [
    "# Split data into X dan y\n",
    "X = data_normalisasi.drop(['fraud'], axis = 1)\n",
    "y = data_normalisasi['fraud']"
   ]
  },
  {
   "cell_type": "code",
   "execution_count": 11,
   "id": "0c5040c2",
   "metadata": {},
   "outputs": [],
   "source": [
    "from sklearn.model_selection import train_test_split\n",
    "# Train = 80% and Test 20%\n",
    "X_train, X_test, y_train, y_test = train_test_split(X,y,test_size=0.2)"
   ]
  },
  {
   "cell_type": "code",
   "execution_count": 12,
   "id": "3df38114",
   "metadata": {},
   "outputs": [
    {
     "name": "stdout",
     "output_type": "stream",
     "text": [
      "TRAINING: X_train: (800000, 7), y_train: (800000,)\n",
      "TESTING: X_test: (200000, 7), y_test: (200000,)\n"
     ]
    }
   ],
   "source": [
    "print(f\"TRAINING: X_train: {X_train.shape}, y_train: {y_train.shape}\")\n",
    "print(f\"TESTING: X_test: {X_test.shape}, y_test: {y_test.shape}\")"
   ]
  },
  {
   "cell_type": "code",
   "execution_count": 13,
   "id": "46d88e0e",
   "metadata": {},
   "outputs": [],
   "source": [
    "from sklearn.metrics import accuracy_score, confusion_matrix, classification_report, f1_score\n",
    "\n",
    "def print_score(label, prediction, train=True):\n",
    "    if train:\n",
    "        clf_report = pd.DataFrame(classification_report(label, prediction, output_dict=True))\n",
    "        print(\"Train Result:\\n================================================\")\n",
    "        print(f\"Accuracy Score: {accuracy_score(label, prediction) * 100:.2f}%\")\n",
    "        print(\"_______________________________________________\")\n",
    "        print(f\"Classification Report:\\n{clf_report}\")\n",
    "        print(\"_______________________________________________\")\n",
    "        print(f\"Confusion Matrix: \\n {confusion_matrix(y_train, prediction)}\\n\")\n",
    "        \n",
    "    elif train==False:\n",
    "        clf_report = pd.DataFrame(classification_report(label, prediction, output_dict=True))\n",
    "        print(\"Test Result:\\n================================================\")        \n",
    "        print(f\"Accuracy Score: {accuracy_score(label, prediction) * 100:.2f}%\")\n",
    "        print(\"_______________________________________________\")\n",
    "        print(f\"Classification Report:\\n{clf_report}\")\n",
    "        print(\"_______________________________________________\")\n",
    "        print(f\"Confusion Matrix: \\n {confusion_matrix(label, prediction)}\\n\") "
   ]
  },
  {
   "cell_type": "markdown",
   "id": "e26d139a",
   "metadata": {},
   "source": [
    "## 5. Predictive Modeling\n",
    "Finally, we come to the main point of our project: training a classification model to predict credit card fraud. "
   ]
  },
  {
   "cell_type": "markdown",
   "id": "247622fa",
   "metadata": {},
   "source": [
    "### 5.1 Logistic Regression"
   ]
  },
  {
   "cell_type": "code",
   "execution_count": 14,
   "id": "cee1b805",
   "metadata": {},
   "outputs": [
    {
     "data": {
      "text/plain": [
       "LogisticRegression(C=10, random_state=0)"
      ]
     },
     "execution_count": 14,
     "metadata": {},
     "output_type": "execute_result"
    }
   ],
   "source": [
    "from sklearn.linear_model import LogisticRegression\n",
    "from sklearn.metrics import accuracy_score, precision_score, recall_score, f1_score\n",
    "model_lr = LogisticRegression(random_state = 0,C=10,penalty= 'l2')\n",
    "model_lr.fit(X_train,y_train)"
   ]
  },
  {
   "cell_type": "code",
   "execution_count": 15,
   "id": "94dd605b",
   "metadata": {
    "scrolled": true
   },
   "outputs": [
    {
     "name": "stdout",
     "output_type": "stream",
     "text": [
      "Train Result:\n",
      "================================================\n",
      "Accuracy Score: 95.61%\n",
      "_______________________________________________\n",
      "Classification Report:\n",
      "                     0.0           1.0  accuracy      macro avg   weighted avg\n",
      "precision       0.959280      0.901202  0.956122       0.930241       0.954198\n",
      "recall          0.994114      0.559935  0.956122       0.777024       0.956122\n",
      "f1-score        0.976386      0.690715  0.956122       0.833551       0.951390\n",
      "support    729999.000000  70001.000000  0.956122  800000.000000  800000.000000\n",
      "_______________________________________________\n",
      "Confusion Matrix: \n",
      " [[725702   4297]\n",
      " [ 30805  39196]]\n",
      "\n",
      "Test Result:\n",
      "================================================\n",
      "Accuracy Score: 95.59%\n",
      "_______________________________________________\n",
      "Classification Report:\n",
      "                     0.0           1.0  accuracy      macro avg   weighted avg\n",
      "precision       0.959193      0.898960   0.95595       0.929076       0.953952\n",
      "recall          0.994042      0.556258   0.95595       0.775150       0.955950\n",
      "f1-score        0.976306      0.687256   0.95595       0.831781       0.951156\n",
      "support    182598.000000  17402.000000   0.95595  200000.000000  200000.000000\n",
      "_______________________________________________\n",
      "Confusion Matrix: \n",
      " [[181510   1088]\n",
      " [  7722   9680]]\n",
      "\n"
     ]
    }
   ],
   "source": [
    "y_test_pred = model_lr.predict(X_test)\n",
    "y_train_pred = model_lr.predict(X_train)\n",
    "\n",
    "print_score(y_train, y_train_pred, train=True)\n",
    "print_score(y_test, y_test_pred, train=False)\n",
    "scores_dict = {}\n",
    "scores_dict['Logistic Regression'] = {'Train': f1_score(y_train,y_train_pred),\n",
    "                                      'Test': f1_score(y_test, y_test_pred),}"
   ]
  },
  {
   "cell_type": "markdown",
   "id": "381579b9",
   "metadata": {},
   "source": [
    "(INTERPRETATION)  : The results of the train and test data show that the accuracy of the train and the accuracy of the test have good scores and are balanced. It may be said that Logistic Regression is a useful and legit model."
   ]
  },
  {
   "cell_type": "markdown",
   "id": "f2cf1bb7",
   "metadata": {},
   "source": [
    "#### KFold Regresi Logistik"
   ]
  },
  {
   "cell_type": "code",
   "execution_count": 16,
   "id": "1956a05d",
   "metadata": {},
   "outputs": [],
   "source": [
    "from sklearn.model_selection import KFold\n",
    "from sklearn.model_selection import cross_val_score\n",
    "k_fold = KFold(n_splits = 10, shuffle = True, random_state = 0)"
   ]
  },
  {
   "cell_type": "code",
   "execution_count": 17,
   "id": "1821a0ec",
   "metadata": {},
   "outputs": [
    {
     "name": "stdout",
     "output_type": "stream",
     "text": [
      "[0.9563  0.95751 0.95598 0.95543 0.95634 0.95619 0.95685 0.95625 0.95614\n",
      " 0.95708]\n"
     ]
    }
   ],
   "source": [
    "score_lr = cross_val_score(model_lr, X, y, cv = k_fold, n_jobs = 1, scoring = 'accuracy')\n",
    "print(score_lr)"
   ]
  },
  {
   "cell_type": "code",
   "execution_count": 18,
   "id": "bf1ad1d4",
   "metadata": {},
   "outputs": [
    {
     "data": {
      "text/plain": [
       "95.6407"
      ]
     },
     "execution_count": 18,
     "metadata": {},
     "output_type": "execute_result"
    }
   ],
   "source": [
    "score_lr.mean()*100"
   ]
  },
  {
   "cell_type": "markdown",
   "id": "eccc5320",
   "metadata": {},
   "source": [
    "### 5.2 K-Nearest Neighbors (KNN)"
   ]
  },
  {
   "cell_type": "code",
   "execution_count": 19,
   "id": "26eb0e89",
   "metadata": {},
   "outputs": [
    {
     "data": {
      "text/plain": [
       "KNeighborsClassifier(n_neighbors=3)"
      ]
     },
     "execution_count": 19,
     "metadata": {},
     "output_type": "execute_result"
    }
   ],
   "source": [
    "from sklearn.neighbors import KNeighborsClassifier\n",
    "from sklearn.metrics import accuracy_score, precision_score, recall_score, f1_score\n",
    "\n",
    "model_knn = KNeighborsClassifier(n_neighbors=3)\n",
    "model_knn.fit(X_train,y_train)\n",
    "\n",
    "# NOTES : n_neighbors=3 means that the KNN model will consider the 5 nearest neighbors when making predictions. \n",
    "#         The number of neighbors chosen can affect the performance of the model. If it is too small, the model may become \n",
    "#         susceptible to noise and outliers. On the other hand, if it is too large, the model may lose the ability to learn \n",
    "#         finer details in the data. "
   ]
  },
  {
   "cell_type": "code",
   "execution_count": 20,
   "id": "c43de049",
   "metadata": {
    "scrolled": true
   },
   "outputs": [
    {
     "name": "stdout",
     "output_type": "stream",
     "text": [
      "Train Result:\n",
      "================================================\n",
      "Accuracy Score: 99.96%\n",
      "_______________________________________________\n",
      "Classification Report:\n",
      "                     0.0           1.0  accuracy      macro avg   weighted avg\n",
      "precision       0.999667      0.998526  0.999568       0.999096       0.999567\n",
      "recall          0.999859      0.996529  0.999568       0.998194       0.999568\n",
      "f1-score        0.999763      0.997526  0.999568       0.998645       0.999567\n",
      "support    729999.000000  70001.000000  0.999568  800000.000000  800000.000000\n",
      "_______________________________________________\n",
      "Confusion Matrix: \n",
      " [[729896    103]\n",
      " [   243  69758]]\n",
      "\n",
      "Test Result:\n",
      "================================================\n",
      "Accuracy Score: 99.91%\n",
      "_______________________________________________\n",
      "Classification Report:\n",
      "                     0.0           1.0  accuracy      macro avg   weighted avg\n",
      "precision       0.999370      0.996024   0.99908       0.997697       0.999079\n",
      "recall          0.999622      0.993392   0.99908       0.996507       0.999080\n",
      "f1-score        0.999496      0.994706   0.99908       0.997101       0.999079\n",
      "support    182598.000000  17402.000000   0.99908  200000.000000  200000.000000\n",
      "_______________________________________________\n",
      "Confusion Matrix: \n",
      " [[182529     69]\n",
      " [   115  17287]]\n",
      "\n"
     ]
    }
   ],
   "source": [
    "y_test_pred = model_knn.predict(X_test)\n",
    "y_train_pred = model_knn.predict(X_train)\n",
    "\n",
    "print_score(y_train, y_train_pred, train=True)\n",
    "print_score(y_test, y_test_pred, train=False)\n",
    "scores_dict['K-Nearest Neighbors (KNN)'] = {'Train': f1_score(y_train,y_train_pred),\n",
    "                                            'Test': f1_score(y_test, y_test_pred),}"
   ]
  },
  {
   "cell_type": "markdown",
   "id": "bf151e58",
   "metadata": {},
   "source": [
    "(INTERPRETATION)  : The results of the train and test data show that the accuracy of the train and the accuracy of the test have good scores and are balanced. It may be said that K-Nearest Neighbors (KNN) is a useful and legit model."
   ]
  },
  {
   "cell_type": "markdown",
   "id": "26c99aa6",
   "metadata": {},
   "source": [
    "#### KFold KNN"
   ]
  },
  {
   "cell_type": "code",
   "execution_count": null,
   "id": "302ac400",
   "metadata": {},
   "outputs": [],
   "source": [
    "score_knn = cross_val_score(model_knn,X,y,cv=k_fold,n_jobs=1,scoring='accuracy')\n",
    "print(score_knn)"
   ]
  },
  {
   "cell_type": "code",
   "execution_count": null,
   "id": "cf4f2a1d",
   "metadata": {},
   "outputs": [],
   "source": [
    "score_knn.mean() * 100"
   ]
  },
  {
   "cell_type": "markdown",
   "id": "726e2ed2",
   "metadata": {},
   "source": [
    "### 5.3 Random Forest"
   ]
  },
  {
   "cell_type": "code",
   "execution_count": null,
   "id": "f3d39f5d",
   "metadata": {
    "scrolled": false
   },
   "outputs": [],
   "source": [
    "from sklearn.ensemble import RandomForestClassifier\n",
    "\n",
    "model_rf = RandomForestClassifier(n_estimators=100, oob_score=False)\n",
    "model_rf.fit(X_train, y_train)\n",
    "\n",
    "y_train_pred = model_rf.predict(X_train)\n",
    "y_test_pred = model_rf.predict(X_test)\n",
    "\n",
    "print_score(y_train, y_train_pred, train=True)\n",
    "print_score(y_test, y_test_pred, train=False)\n",
    "\n",
    "scores_dict['Random Forest'] = {'Train': f1_score(y_train,y_train_pred),\n",
    "                                'Test': f1_score(y_test, y_test_pred),}"
   ]
  },
  {
   "cell_type": "code",
   "execution_count": null,
   "id": "5a83f2a8",
   "metadata": {},
   "outputs": [],
   "source": [
    "scores_df = pd.DataFrame(scores_dict)\n",
    "\n",
    "scores_df.plot(kind='barh', figsize=(15, 8))"
   ]
  },
  {
   "cell_type": "markdown",
   "id": "0ce2b937",
   "metadata": {},
   "source": [
    "Model yang digunakan yaitu menggunakan Regresi Logistik dan menggunakan KNN. Selain itu kami juga mencoba menggunakan Random Forest dan didapat tingkat akurasinya adalah 100%. Sehingga dapat dikatakan dengan menggunakan Random Forest hasil analisisnya memiliki tingkat akurasi yang lebih baik."
   ]
  }
 ],
 "metadata": {
  "kernelspec": {
   "display_name": "Python 3 (ipykernel)",
   "language": "python",
   "name": "python3"
  },
  "language_info": {
   "codemirror_mode": {
    "name": "ipython",
    "version": 3
   },
   "file_extension": ".py",
   "mimetype": "text/x-python",
   "name": "python",
   "nbconvert_exporter": "python",
   "pygments_lexer": "ipython3",
   "version": "3.9.13"
  }
 },
 "nbformat": 4,
 "nbformat_minor": 5
}
